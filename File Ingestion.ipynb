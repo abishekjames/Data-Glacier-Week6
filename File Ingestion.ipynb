{
 "cells": [
  {
   "cell_type": "markdown",
   "id": "17fe3b17",
   "metadata": {},
   "source": [
    "## Task: File Ingestion and Schema validation\n",
    "\n",
    " • Take any csv/text file of 2+ GB of your choice. --- (You can do this assignment on Google colab)\n",
    "\n",
    " • Read the file ( Present approach of reading the file )\n",
    "\n",
    " • Try different methods of file reading eg: Dask, Modin, Ray, pandas and present your findings in term of computational efficiency\n",
    "\n",
    " • Perform basic validation on data columns : eg: remove special character , white spaces from the col name\n",
    "\n",
    " • As you already know the schema hence create a YAML file and write the column name in YAML file. --define separator of\n",
    "read and write file, column name in YAML\n",
    "\n",
    " • Validate number of columns and column name of ingested file with YAML.\n",
    "\n",
    " • Write the file in pipe separated text file (|) in gz format.\n",
    "\n",
    " • Create a summary of the file:\n",
    "\n",
    "    Total number of rows,\n",
    "\n",
    "    total number of columns\n",
    "\n",
    "    file size"
   ]
  },
  {
   "cell_type": "code",
   "execution_count": 125,
   "id": "863c235c",
   "metadata": {},
   "outputs": [],
   "source": [
    "import os\n",
    "import time"
   ]
  },
  {
   "cell_type": "code",
   "execution_count": 126,
   "id": "06d7d25d",
   "metadata": {},
   "outputs": [
    {
     "data": {
      "text/plain": [
       "1901641188"
      ]
     },
     "execution_count": 126,
     "metadata": {},
     "output_type": "execute_result"
    }
   ],
   "source": [
    "#Size of the file\n",
    "os.path.getsize('C:\\\\Users\\\\Admin\\\\Desktop\\\\Data Glacier\\\\Week6\\\\carsales.csv')"
   ]
  },
  {
   "cell_type": "markdown",
   "id": "51465634",
   "metadata": {},
   "source": [
    "## Reading the data with Pandas"
   ]
  },
  {
   "cell_type": "code",
   "execution_count": 3,
   "id": "bcf04c65",
   "metadata": {},
   "outputs": [],
   "source": [
    "import pandas as pd"
   ]
  },
  {
   "cell_type": "code",
   "execution_count": 8,
   "id": "0a3b696b",
   "metadata": {},
   "outputs": [
    {
     "name": "stdout",
     "output_type": "stream",
     "text": [
      "CPU times: total: 47.3 s\n",
      "Wall time: 49 s\n"
     ]
    }
   ],
   "source": [
    "%%time\n",
    "df = pd.read_csv('carsales.csv')"
   ]
  },
  {
   "cell_type": "code",
   "execution_count": 7,
   "id": "c1e2c743",
   "metadata": {},
   "outputs": [
    {
     "name": "stdout",
     "output_type": "stream",
     "text": [
      "Read csv with pandas:  50.706236124038696 sec\n"
     ]
    }
   ],
   "source": [
    "start = time.time()\n",
    "df = pd.read_csv('carsales.csv')\n",
    "end = time.time()\n",
    "print(\"Read csv with pandas: \",(end-start),\"sec\")"
   ]
  },
  {
   "cell_type": "markdown",
   "id": "4ce220c2",
   "metadata": {},
   "source": [
    "## Reading the data with modin and ray"
   ]
  },
  {
   "cell_type": "code",
   "execution_count": 12,
   "id": "48b96699",
   "metadata": {},
   "outputs": [
    {
     "name": "stderr",
     "output_type": "stream",
     "text": [
      "2023-04-04 15:28:05,145\tINFO worker.py:1553 -- Started a local Ray instance.\n"
     ]
    },
    {
     "name": "stdout",
     "output_type": "stream",
     "text": [
      "Read csv with modin and ray:  73.02560472488403 sec\n"
     ]
    }
   ],
   "source": [
    "import modin.pandas as pd\n",
    "import ray\n",
    "ray.shutdown()\n",
    "ray.init()\n",
    "start = time.time()\n",
    "df = pd.read_csv('carsales.csv')\n",
    "end = time.time()\n",
    "print(\"Read csv with modin and ray: \",(end-start),\"sec\")"
   ]
  },
  {
   "cell_type": "code",
   "execution_count": 14,
   "id": "3d172c5a",
   "metadata": {},
   "outputs": [
    {
     "name": "stdout",
     "output_type": "stream",
     "text": [
      "CPU times: total: 8.47 s\n",
      "Wall time: 1min 41s\n"
     ]
    }
   ],
   "source": [
    "%%time\n",
    "df = pd.read_csv('carsales.csv')"
   ]
  },
  {
   "cell_type": "markdown",
   "id": "1270b75a",
   "metadata": {},
   "source": [
    "## Reading the data with dask"
   ]
  },
  {
   "cell_type": "code",
   "execution_count": 19,
   "id": "7c1e05b2",
   "metadata": {},
   "outputs": [],
   "source": [
    "from dask import dataframe as dd"
   ]
  },
  {
   "cell_type": "code",
   "execution_count": 18,
   "id": "8940c3b1",
   "metadata": {},
   "outputs": [
    {
     "name": "stdout",
     "output_type": "stream",
     "text": [
      "CPU times: total: 15.6 ms\n",
      "Wall time: 87.1 ms\n"
     ]
    }
   ],
   "source": [
    "%%time\n",
    "dask_df = dd.read_csv('carsales.csv')"
   ]
  },
  {
   "cell_type": "code",
   "execution_count": 21,
   "id": "cff5ee11",
   "metadata": {},
   "outputs": [
    {
     "name": "stdout",
     "output_type": "stream",
     "text": [
      "Read csv with dask:  0.020333051681518555 sec\n"
     ]
    }
   ],
   "source": [
    "start = time.time()\n",
    "dask_df = dd.read_csv('carsales.csv')\n",
    "end = time.time()\n",
    "print(\"Read csv with dask: \",(end-start),\"sec\")"
   ]
  },
  {
   "cell_type": "markdown",
   "id": "6301a890",
   "metadata": {},
   "source": [
    "### Each of the libraries has different strengths, weaknesses, and scaling strategies. From the above reading with data, dask in faster.It reads CSV files(Size of 2GB) faster than Pandas,Modin and ray.\n",
    "\n",
    "### So as a conclusion,Dask is better than pandas and modin with computational time of 0.025 s, whereas the other two took 73 s and 50 s respectively."
   ]
  },
  {
   "cell_type": "markdown",
   "id": "f6a50cad",
   "metadata": {},
   "source": [
    "## Dask is using to read the file and performing ingestion"
   ]
  },
  {
   "cell_type": "code",
   "execution_count": 27,
   "id": "fcb03e19",
   "metadata": {},
   "outputs": [
    {
     "data": {
      "text/html": [
       "<div>\n",
       "<style scoped>\n",
       "    .dataframe tbody tr th:only-of-type {\n",
       "        vertical-align: middle;\n",
       "    }\n",
       "\n",
       "    .dataframe tbody tr th {\n",
       "        vertical-align: top;\n",
       "    }\n",
       "\n",
       "    .dataframe thead th {\n",
       "        text-align: right;\n",
       "    }\n",
       "</style>\n",
       "<table border=\"1\" class=\"dataframe\">\n",
       "  <thead>\n",
       "    <tr style=\"text-align: right;\">\n",
       "      <th></th>\n",
       "      <th>brand</th>\n",
       "      <th>name</th>\n",
       "      <th>bodyType</th>\n",
       "      <th>color</th>\n",
       "      <th>fuelType</th>\n",
       "      <th>year</th>\n",
       "      <th>mileage</th>\n",
       "      <th>transmission</th>\n",
       "      <th>power</th>\n",
       "      <th>price</th>\n",
       "      <th>vehicleConfiguration</th>\n",
       "      <th>engineName</th>\n",
       "      <th>engineDisplacement</th>\n",
       "      <th>date</th>\n",
       "      <th>location</th>\n",
       "      <th>link</th>\n",
       "      <th>description</th>\n",
       "      <th>parse_date</th>\n",
       "    </tr>\n",
       "  </thead>\n",
       "  <tbody>\n",
       "    <tr>\n",
       "      <th>0</th>\n",
       "      <td>Fiat</td>\n",
       "      <td>124 Spider</td>\n",
       "      <td>Открытый</td>\n",
       "      <td>Синий</td>\n",
       "      <td>Бензин</td>\n",
       "      <td>NaN</td>\n",
       "      <td>8000.0</td>\n",
       "      <td>Автомат</td>\n",
       "      <td>NaN</td>\n",
       "      <td>1830000</td>\n",
       "      <td>NaN</td>\n",
       "      <td>NaN</td>\n",
       "      <td>NaN</td>\n",
       "      <td>2022-08-20 00:00:00</td>\n",
       "      <td>Владивосток</td>\n",
       "      <td>https://vladivostok.drom.ru/fiat/124_spider/47...</td>\n",
       "      <td>Только сегодня с таможни забрали Как новый! Кр...</td>\n",
       "      <td>2022-08-20 04:00:00</td>\n",
       "    </tr>\n",
       "    <tr>\n",
       "      <th>1</th>\n",
       "      <td>BMW</td>\n",
       "      <td>i3</td>\n",
       "      <td>Хэтчбек 5 дв.</td>\n",
       "      <td>Черный</td>\n",
       "      <td>Электро</td>\n",
       "      <td>NaN</td>\n",
       "      <td>12000.0</td>\n",
       "      <td>Автомат</td>\n",
       "      <td>NaN</td>\n",
       "      <td>1830000</td>\n",
       "      <td>NaN</td>\n",
       "      <td>NaN</td>\n",
       "      <td>NaN</td>\n",
       "      <td>2022-08-20 00:00:00</td>\n",
       "      <td>Владивосток</td>\n",
       "      <td>https://vladivostok.drom.ru/bmw/i3/47958301.html</td>\n",
       "      <td>Электричка +двс V-600cc ,как новая BMW i3 с ге...</td>\n",
       "      <td>2022-08-20 04:00:00</td>\n",
       "    </tr>\n",
       "    <tr>\n",
       "      <th>2</th>\n",
       "      <td>Mercedes-Benz</td>\n",
       "      <td>GLE Coupe</td>\n",
       "      <td>Джип 5 дв.</td>\n",
       "      <td>Бордовый</td>\n",
       "      <td>Бензин</td>\n",
       "      <td>2015.0</td>\n",
       "      <td>57000.0</td>\n",
       "      <td>АКПП</td>\n",
       "      <td>367.0</td>\n",
       "      <td>4600000</td>\n",
       "      <td>450 AMG 4MATIC Особая серия</td>\n",
       "      <td>M 276 DE 30 AL</td>\n",
       "      <td>3.0 LTR</td>\n",
       "      <td>2022-08-20 00:00:00</td>\n",
       "      <td>Владивосток</td>\n",
       "      <td>https://vladivostok.drom.ru/mercedes-benz/gle_...</td>\n",
       "      <td>Отличное состояние автомобиля. Комплектация «G...</td>\n",
       "      <td>2022-08-20 04:00:00</td>\n",
       "    </tr>\n",
       "    <tr>\n",
       "      <th>3</th>\n",
       "      <td>Mercedes-Benz</td>\n",
       "      <td>G-Class</td>\n",
       "      <td>Джип 5 дв.</td>\n",
       "      <td>Черный</td>\n",
       "      <td>Бензин</td>\n",
       "      <td>2002.0</td>\n",
       "      <td>200000.0</td>\n",
       "      <td>АКПП</td>\n",
       "      <td>296.0</td>\n",
       "      <td>2999999</td>\n",
       "      <td>G 500</td>\n",
       "      <td>M 113 E 50</td>\n",
       "      <td>5.0 LTR</td>\n",
       "      <td>2022-08-20 00:00:00</td>\n",
       "      <td>Владивосток</td>\n",
       "      <td>https://vladivostok.drom.ru/mercedes-benz/g-cl...</td>\n",
       "      <td>Продам правильный гелик. Лучшая машина. Полнос...</td>\n",
       "      <td>2022-08-20 04:00:00</td>\n",
       "    </tr>\n",
       "    <tr>\n",
       "      <th>4</th>\n",
       "      <td>Audi</td>\n",
       "      <td>Q7</td>\n",
       "      <td>Джип 5 дв.</td>\n",
       "      <td>Белый</td>\n",
       "      <td>Бензин</td>\n",
       "      <td>NaN</td>\n",
       "      <td>67000.0</td>\n",
       "      <td>Автомат</td>\n",
       "      <td>252.0</td>\n",
       "      <td>3300000</td>\n",
       "      <td>NaN</td>\n",
       "      <td>NaN</td>\n",
       "      <td>NaN</td>\n",
       "      <td>2022-08-20 00:00:00</td>\n",
       "      <td>Владивосток</td>\n",
       "      <td>https://vladivostok.drom.ru/audi/q7/46498184.html</td>\n",
       "      <td>Audi Q7 II S line (252л.с.) 4WD Внедорожник 5 ...</td>\n",
       "      <td>2022-08-20 04:00:00</td>\n",
       "    </tr>\n",
       "  </tbody>\n",
       "</table>\n",
       "</div>"
      ],
      "text/plain": [
       "           brand        name       bodyType     color fuelType    year  \\\n",
       "0           Fiat  124 Spider       Открытый     Синий   Бензин     NaN   \n",
       "1            BMW          i3  Хэтчбек 5 дв.    Черный  Электро     NaN   \n",
       "2  Mercedes-Benz   GLE Coupe     Джип 5 дв.  Бордовый   Бензин  2015.0   \n",
       "3  Mercedes-Benz     G-Class     Джип 5 дв.    Черный   Бензин  2002.0   \n",
       "4           Audi          Q7     Джип 5 дв.     Белый   Бензин     NaN   \n",
       "\n",
       "    mileage transmission  power    price         vehicleConfiguration  \\\n",
       "0    8000.0      Автомат    NaN  1830000                          NaN   \n",
       "1   12000.0      Автомат    NaN  1830000                          NaN   \n",
       "2   57000.0         АКПП  367.0  4600000  450 AMG 4MATIC Особая серия   \n",
       "3  200000.0         АКПП  296.0  2999999                        G 500   \n",
       "4   67000.0      Автомат  252.0  3300000                          NaN   \n",
       "\n",
       "       engineName engineDisplacement                 date     location  \\\n",
       "0             NaN                NaN  2022-08-20 00:00:00  Владивосток   \n",
       "1             NaN                NaN  2022-08-20 00:00:00  Владивосток   \n",
       "2  M 276 DE 30 AL            3.0 LTR  2022-08-20 00:00:00  Владивосток   \n",
       "3      M 113 E 50            5.0 LTR  2022-08-20 00:00:00  Владивосток   \n",
       "4             NaN                NaN  2022-08-20 00:00:00  Владивосток   \n",
       "\n",
       "                                                link  \\\n",
       "0  https://vladivostok.drom.ru/fiat/124_spider/47...   \n",
       "1   https://vladivostok.drom.ru/bmw/i3/47958301.html   \n",
       "2  https://vladivostok.drom.ru/mercedes-benz/gle_...   \n",
       "3  https://vladivostok.drom.ru/mercedes-benz/g-cl...   \n",
       "4  https://vladivostok.drom.ru/audi/q7/46498184.html   \n",
       "\n",
       "                                         description           parse_date  \n",
       "0  Только сегодня с таможни забрали Как новый! Кр...  2022-08-20 04:00:00  \n",
       "1  Электричка +двс V-600cc ,как новая BMW i3 с ге...  2022-08-20 04:00:00  \n",
       "2  Отличное состояние автомобиля. Комплектация «G...  2022-08-20 04:00:00  \n",
       "3  Продам правильный гелик. Лучшая машина. Полнос...  2022-08-20 04:00:00  \n",
       "4  Audi Q7 II S line (252л.с.) 4WD Внедорожник 5 ...  2022-08-20 04:00:00  "
      ]
     },
     "execution_count": 27,
     "metadata": {},
     "output_type": "execute_result"
    }
   ],
   "source": [
    "df = dd.read_csv('carsales.csv', delimiter = ',')\n",
    "df.head()"
   ]
  },
  {
   "cell_type": "code",
   "execution_count": 28,
   "id": "d601ea77",
   "metadata": {},
   "outputs": [
    {
     "name": "stdout",
     "output_type": "stream",
     "text": [
      "<class 'dask.dataframe.core.DataFrame'>\n",
      "Columns: 18 entries, brand to parse_date\n",
      "dtypes: object(14), float64(3), int64(1)"
     ]
    }
   ],
   "source": [
    "df.info()"
   ]
  },
  {
   "cell_type": "code",
   "execution_count": 29,
   "id": "7b329559",
   "metadata": {},
   "outputs": [
    {
     "name": "stdout",
     "output_type": "stream",
     "text": [
      "Number of rows:  1513200\n",
      "Number of columns : 18\n"
     ]
    }
   ],
   "source": [
    "print(\"Number of rows: \", len(df.index))\n",
    "print(\"Number of columns : {}\".format(len(df.columns)))"
   ]
  },
  {
   "cell_type": "code",
   "execution_count": 30,
   "id": "71b1cead",
   "metadata": {},
   "outputs": [
    {
     "data": {
      "text/plain": [
       "Index(['brand', 'name', 'bodyType', 'color', 'fuelType', 'year', 'mileage',\n",
       "       'transmission', 'power', 'price', 'vehicleConfiguration', 'engineName',\n",
       "       'engineDisplacement', 'date', 'location', 'link', 'description',\n",
       "       'parse_date'],\n",
       "      dtype='object')"
      ]
     },
     "execution_count": 30,
     "metadata": {},
     "output_type": "execute_result"
    }
   ],
   "source": [
    "#To check white spaces and special characters\n",
    "df.columns"
   ]
  },
  {
   "cell_type": "markdown",
   "id": "be780367",
   "metadata": {},
   "source": [
    "Special characters are there in the column name(parse_date),we can remove that."
   ]
  },
  {
   "cell_type": "code",
   "execution_count": 79,
   "id": "3195b83c",
   "metadata": {},
   "outputs": [],
   "source": [
    "# remove special character\n",
    "df.columns=df.columns.str.replace('[#,@,_]','')\n",
    "\n",
    "#To remove white space from columns\n",
    "df.columns = df.columns.str.replace(' ', '')"
   ]
  },
  {
   "cell_type": "code",
   "execution_count": 36,
   "id": "14b74be7",
   "metadata": {},
   "outputs": [
    {
     "data": {
      "text/plain": [
       "Index(['brand', 'name', 'bodyType', 'color', 'fuelType', 'year', 'mileage',\n",
       "       'transmission', 'power', 'price', 'vehicleConfiguration', 'engineName',\n",
       "       'engineDisplacement', 'date', 'location', 'link', 'description',\n",
       "       'parsedate'],\n",
       "      dtype='object')"
      ]
     },
     "execution_count": 36,
     "metadata": {},
     "output_type": "execute_result"
    }
   ],
   "source": [
    "df.columns"
   ]
  },
  {
   "cell_type": "markdown",
   "id": "3361152e",
   "metadata": {},
   "source": [
    "## Creating Utility file"
   ]
  },
  {
   "cell_type": "code",
   "execution_count": 5,
   "id": "b2a0f730",
   "metadata": {},
   "outputs": [
    {
     "name": "stdout",
     "output_type": "stream",
     "text": [
      "Overwriting utility.py\n"
     ]
    }
   ],
   "source": [
    "%%writefile utility.py\n",
    "import logging\n",
    "import os\n",
    "import subprocess\n",
    "import yaml\n",
    "import pandas as pd\n",
    "import datetime \n",
    "import gc\n",
    "import re\n",
    "\n",
    "\n",
    "################\n",
    "# File Reading #\n",
    "################\n",
    "\n",
    "def read_config_file(filepath):\n",
    "    with open(filepath, 'r') as stream:\n",
    "        try:\n",
    "            return yaml.safe_load(stream)\n",
    "        except yaml.YAMLError as exc:\n",
    "            logging.error(exc)\n",
    "\n",
    "\n",
    "def replacer(string, char):\n",
    "    pattern = char + '{2,}'\n",
    "    string = re.sub(pattern, char, string) \n",
    "    return string\n",
    "\n",
    "def col_header_val(df,table_config):\n",
    "    '''\n",
    "    replace whitespaces in the column\n",
    "    and standardized column names\n",
    "    '''\n",
    "    df.columns = df.columns.str.lower()\n",
    "    df.columns = df.columns.str.replace('[^\\w]','_',regex=True)\n",
    "    df.columns = list(map(lambda x: x.strip('_'), list(df.columns)))\n",
    "    df.columns = list(map(lambda x: replacer(x,'_'), list(df.columns)))\n",
    "    expected_col = list(map(lambda x: x.lower(),  table_config['columns']))\n",
    "    expected_col.sort()\n",
    "    df.columns =list(map(lambda x: x.lower(), list(df.columns)))\n",
    "    df = df.reindex(sorted(df.columns), axis=1)\n",
    "    if len(df.columns) == len(expected_col) and list(expected_col)  == list(df.columns):\n",
    "        print(\"column name and column length validation passed\")\n",
    "        return 1\n",
    "    else:\n",
    "        print(\"column name and column length validation failed\")\n",
    "        mismatched_columns_file = list(set(df.columns).difference(expected_col))\n",
    "        print(\"Following File columns are not in the YAML file\",mismatched_columns_file)\n",
    "        missing_YAML_file = list(set(expected_col).difference(df.columns))\n",
    "        print(\"Following YAML columns are not in the file uploaded\",missing_YAML_file)\n",
    "        logging.info(f'df columns: {df.columns}')\n",
    "        logging.info(f'expected columns: {expected_col}')\n",
    "        return 0"
   ]
  },
  {
   "cell_type": "code",
   "execution_count": 6,
   "id": "74827a1f",
   "metadata": {},
   "outputs": [
    {
     "name": "stdout",
     "output_type": "stream",
     "text": [
      "Overwriting file.yaml\n"
     ]
    }
   ],
   "source": [
    "%%writefile file.yaml\n",
    "file_type: csv\n",
    "dataset_name: testfile\n",
    "file_name: carsales\n",
    "table_name: sales\n",
    "inbound_delimiter: \",\"\n",
    "outbound_delimiter: \"|\"\n",
    "skip_leading_rows: 1\n",
    "columns: \n",
    "    - brand\n",
    "    - name\n",
    "    - bodyType\n",
    "    - color\n",
    "    - fuelType\n",
    "    - year\n",
    "    - mileage\n",
    "    - transmission\n",
    "    - power\n",
    "    - price\n",
    "    - vehicleConfiguration\n",
    "    - engineName\n",
    "    - engineDisplacement\n",
    "    - date\n",
    "    - location\n",
    "    - link\n",
    "    - description\n",
    "    - parsedate"
   ]
  },
  {
   "cell_type": "code",
   "execution_count": 7,
   "id": "5b0a6796",
   "metadata": {},
   "outputs": [
    {
     "data": {
      "text/plain": [
       "{'file_type': 'csv',\n",
       " 'dataset_name': 'testfile',\n",
       " 'file_name': 'carsales',\n",
       " 'table_name': 'sales',\n",
       " 'inbound_delimiter': ',',\n",
       " 'outbound_delimiter': '|',\n",
       " 'skip_leading_rows': 1,\n",
       " 'columns': ['brand',\n",
       "  'name',\n",
       "  'bodyType',\n",
       "  'color',\n",
       "  'fuelType',\n",
       "  'year',\n",
       "  'mileage',\n",
       "  'transmission',\n",
       "  'power',\n",
       "  'price',\n",
       "  'vehicleConfiguration',\n",
       "  'engineName',\n",
       "  'engineDisplacement',\n",
       "  'date',\n",
       "  'location',\n",
       "  'link',\n",
       "  'description',\n",
       "  'parsedate']}"
      ]
     },
     "execution_count": 7,
     "metadata": {},
     "output_type": "execute_result"
    }
   ],
   "source": [
    "# Read config file\n",
    "import utility as util\n",
    "config_data = util.read_config_file(\"file.yaml\")\n",
    "config_data"
   ]
  },
  {
   "cell_type": "code",
   "execution_count": 8,
   "id": "a88549c2",
   "metadata": {},
   "outputs": [
    {
     "data": {
      "text/plain": [
       "'carsales'"
      ]
     },
     "execution_count": 8,
     "metadata": {},
     "output_type": "execute_result"
    }
   ],
   "source": [
    "config_data['file_name']"
   ]
  },
  {
   "cell_type": "code",
   "execution_count": 30,
   "id": "48fe1821",
   "metadata": {},
   "outputs": [
    {
     "data": {
      "text/html": [
       "<div>\n",
       "<style scoped>\n",
       "    .dataframe tbody tr th:only-of-type {\n",
       "        vertical-align: middle;\n",
       "    }\n",
       "\n",
       "    .dataframe tbody tr th {\n",
       "        vertical-align: top;\n",
       "    }\n",
       "\n",
       "    .dataframe thead th {\n",
       "        text-align: right;\n",
       "    }\n",
       "</style>\n",
       "<table border=\"1\" class=\"dataframe\">\n",
       "  <thead>\n",
       "    <tr style=\"text-align: right;\">\n",
       "      <th></th>\n",
       "      <th>brand</th>\n",
       "      <th>name</th>\n",
       "      <th>bodyType</th>\n",
       "      <th>color</th>\n",
       "      <th>fuelType</th>\n",
       "      <th>year</th>\n",
       "      <th>mileage</th>\n",
       "      <th>transmission</th>\n",
       "      <th>power</th>\n",
       "      <th>price</th>\n",
       "      <th>vehicleConfiguration</th>\n",
       "      <th>engineName</th>\n",
       "      <th>engineDisplacement</th>\n",
       "      <th>date</th>\n",
       "      <th>location</th>\n",
       "      <th>link</th>\n",
       "      <th>description</th>\n",
       "      <th>parse_date</th>\n",
       "    </tr>\n",
       "  </thead>\n",
       "  <tbody>\n",
       "    <tr>\n",
       "      <th>0</th>\n",
       "      <td>Fiat</td>\n",
       "      <td>124 Spider</td>\n",
       "      <td>Открытый</td>\n",
       "      <td>Синий</td>\n",
       "      <td>Бензин</td>\n",
       "      <td>NaN</td>\n",
       "      <td>8000.0</td>\n",
       "      <td>Автомат</td>\n",
       "      <td>NaN</td>\n",
       "      <td>1830000</td>\n",
       "      <td>NaN</td>\n",
       "      <td>NaN</td>\n",
       "      <td>NaN</td>\n",
       "      <td>2022-08-20 00:00:00</td>\n",
       "      <td>Владивосток</td>\n",
       "      <td>https://vladivostok.drom.ru/fiat/124_spider/47...</td>\n",
       "      <td>Только сегодня с таможни забрали Как новый! Кр...</td>\n",
       "      <td>2022-08-20 04:00:00</td>\n",
       "    </tr>\n",
       "    <tr>\n",
       "      <th>1</th>\n",
       "      <td>BMW</td>\n",
       "      <td>i3</td>\n",
       "      <td>Хэтчбек 5 дв.</td>\n",
       "      <td>Черный</td>\n",
       "      <td>Электро</td>\n",
       "      <td>NaN</td>\n",
       "      <td>12000.0</td>\n",
       "      <td>Автомат</td>\n",
       "      <td>NaN</td>\n",
       "      <td>1830000</td>\n",
       "      <td>NaN</td>\n",
       "      <td>NaN</td>\n",
       "      <td>NaN</td>\n",
       "      <td>2022-08-20 00:00:00</td>\n",
       "      <td>Владивосток</td>\n",
       "      <td>https://vladivostok.drom.ru/bmw/i3/47958301.html</td>\n",
       "      <td>Электричка +двс V-600cc ,как новая BMW i3 с ге...</td>\n",
       "      <td>2022-08-20 04:00:00</td>\n",
       "    </tr>\n",
       "    <tr>\n",
       "      <th>2</th>\n",
       "      <td>Mercedes-Benz</td>\n",
       "      <td>GLE Coupe</td>\n",
       "      <td>Джип 5 дв.</td>\n",
       "      <td>Бордовый</td>\n",
       "      <td>Бензин</td>\n",
       "      <td>2015.0</td>\n",
       "      <td>57000.0</td>\n",
       "      <td>АКПП</td>\n",
       "      <td>367.0</td>\n",
       "      <td>4600000</td>\n",
       "      <td>450 AMG 4MATIC Особая серия</td>\n",
       "      <td>M 276 DE 30 AL</td>\n",
       "      <td>3.0 LTR</td>\n",
       "      <td>2022-08-20 00:00:00</td>\n",
       "      <td>Владивосток</td>\n",
       "      <td>https://vladivostok.drom.ru/mercedes-benz/gle_...</td>\n",
       "      <td>Отличное состояние автомобиля. Комплектация «G...</td>\n",
       "      <td>2022-08-20 04:00:00</td>\n",
       "    </tr>\n",
       "    <tr>\n",
       "      <th>3</th>\n",
       "      <td>Mercedes-Benz</td>\n",
       "      <td>G-Class</td>\n",
       "      <td>Джип 5 дв.</td>\n",
       "      <td>Черный</td>\n",
       "      <td>Бензин</td>\n",
       "      <td>2002.0</td>\n",
       "      <td>200000.0</td>\n",
       "      <td>АКПП</td>\n",
       "      <td>296.0</td>\n",
       "      <td>2999999</td>\n",
       "      <td>G 500</td>\n",
       "      <td>M 113 E 50</td>\n",
       "      <td>5.0 LTR</td>\n",
       "      <td>2022-08-20 00:00:00</td>\n",
       "      <td>Владивосток</td>\n",
       "      <td>https://vladivostok.drom.ru/mercedes-benz/g-cl...</td>\n",
       "      <td>Продам правильный гелик. Лучшая машина. Полнос...</td>\n",
       "      <td>2022-08-20 04:00:00</td>\n",
       "    </tr>\n",
       "    <tr>\n",
       "      <th>4</th>\n",
       "      <td>Audi</td>\n",
       "      <td>Q7</td>\n",
       "      <td>Джип 5 дв.</td>\n",
       "      <td>Белый</td>\n",
       "      <td>Бензин</td>\n",
       "      <td>NaN</td>\n",
       "      <td>67000.0</td>\n",
       "      <td>Автомат</td>\n",
       "      <td>252.0</td>\n",
       "      <td>3300000</td>\n",
       "      <td>NaN</td>\n",
       "      <td>NaN</td>\n",
       "      <td>NaN</td>\n",
       "      <td>2022-08-20 00:00:00</td>\n",
       "      <td>Владивосток</td>\n",
       "      <td>https://vladivostok.drom.ru/audi/q7/46498184.html</td>\n",
       "      <td>Audi Q7 II S line (252л.с.) 4WD Внедорожник 5 ...</td>\n",
       "      <td>2022-08-20 04:00:00</td>\n",
       "    </tr>\n",
       "  </tbody>\n",
       "</table>\n",
       "</div>"
      ],
      "text/plain": [
       "           brand        name       bodyType     color fuelType    year  \\\n",
       "0           Fiat  124 Spider       Открытый     Синий   Бензин     NaN   \n",
       "1            BMW          i3  Хэтчбек 5 дв.    Черный  Электро     NaN   \n",
       "2  Mercedes-Benz   GLE Coupe     Джип 5 дв.  Бордовый   Бензин  2015.0   \n",
       "3  Mercedes-Benz     G-Class     Джип 5 дв.    Черный   Бензин  2002.0   \n",
       "4           Audi          Q7     Джип 5 дв.     Белый   Бензин     NaN   \n",
       "\n",
       "    mileage transmission  power    price         vehicleConfiguration  \\\n",
       "0    8000.0      Автомат    NaN  1830000                          NaN   \n",
       "1   12000.0      Автомат    NaN  1830000                          NaN   \n",
       "2   57000.0         АКПП  367.0  4600000  450 AMG 4MATIC Особая серия   \n",
       "3  200000.0         АКПП  296.0  2999999                        G 500   \n",
       "4   67000.0      Автомат  252.0  3300000                          NaN   \n",
       "\n",
       "       engineName engineDisplacement                 date     location  \\\n",
       "0             NaN                NaN  2022-08-20 00:00:00  Владивосток   \n",
       "1             NaN                NaN  2022-08-20 00:00:00  Владивосток   \n",
       "2  M 276 DE 30 AL            3.0 LTR  2022-08-20 00:00:00  Владивосток   \n",
       "3      M 113 E 50            5.0 LTR  2022-08-20 00:00:00  Владивосток   \n",
       "4             NaN                NaN  2022-08-20 00:00:00  Владивосток   \n",
       "\n",
       "                                                link  \\\n",
       "0  https://vladivostok.drom.ru/fiat/124_spider/47...   \n",
       "1   https://vladivostok.drom.ru/bmw/i3/47958301.html   \n",
       "2  https://vladivostok.drom.ru/mercedes-benz/gle_...   \n",
       "3  https://vladivostok.drom.ru/mercedes-benz/g-cl...   \n",
       "4  https://vladivostok.drom.ru/audi/q7/46498184.html   \n",
       "\n",
       "                                         description           parse_date  \n",
       "0  Только сегодня с таможни забрали Как новый! Кр...  2022-08-20 04:00:00  \n",
       "1  Электричка +двс V-600cc ,как новая BMW i3 с ге...  2022-08-20 04:00:00  \n",
       "2  Отличное состояние автомобиля. Комплектация «G...  2022-08-20 04:00:00  \n",
       "3  Продам правильный гелик. Лучшая машина. Полнос...  2022-08-20 04:00:00  \n",
       "4  Audi Q7 II S line (252л.с.) 4WD Внедорожник 5 ...  2022-08-20 04:00:00  "
      ]
     },
     "execution_count": 30,
     "metadata": {},
     "output_type": "execute_result"
    }
   ],
   "source": [
    "# Reading process of the file using Dask\n",
    "from dask import dataframe as dd\n",
    "df = dd.read_csv('carsales.csv',delimiter=',')\n",
    "df.head()"
   ]
  },
  {
   "cell_type": "code",
   "execution_count": 10,
   "id": "3cee4911",
   "metadata": {},
   "outputs": [],
   "source": [
    "#Reading the file using config file\n",
    "file_type = config_data['file_type']\n",
    "source_file = \"C:\\\\Users\\\\Admin\\\\Desktop\\Data Glacier\\Week6/\" + config_data['file_name'] + f'.{file_type}'"
   ]
  },
  {
   "cell_type": "code",
   "execution_count": 31,
   "id": "91d4ece1",
   "metadata": {},
   "outputs": [
    {
     "name": "stderr",
     "output_type": "stream",
     "text": [
      "C:\\Users\\Admin\\AppData\\Local\\Temp\\ipykernel_15608\\702656658.py:2: FutureWarning: In a future version of pandas all arguments of read_csv except for the argument 'filepath_or_buffer' will be keyword-only.\n",
      "  df = pd.read_csv(source_file,config_data['inbound_delimiter'])\n"
     ]
    },
    {
     "data": {
      "text/html": [
       "<div>\n",
       "<style scoped>\n",
       "    .dataframe tbody tr th:only-of-type {\n",
       "        vertical-align: middle;\n",
       "    }\n",
       "\n",
       "    .dataframe tbody tr th {\n",
       "        vertical-align: top;\n",
       "    }\n",
       "\n",
       "    .dataframe thead th {\n",
       "        text-align: right;\n",
       "    }\n",
       "</style>\n",
       "<table border=\"1\" class=\"dataframe\">\n",
       "  <thead>\n",
       "    <tr style=\"text-align: right;\">\n",
       "      <th></th>\n",
       "      <th>brand</th>\n",
       "      <th>name</th>\n",
       "      <th>bodyType</th>\n",
       "      <th>color</th>\n",
       "      <th>fuelType</th>\n",
       "      <th>year</th>\n",
       "      <th>mileage</th>\n",
       "      <th>transmission</th>\n",
       "      <th>power</th>\n",
       "      <th>price</th>\n",
       "      <th>vehicleConfiguration</th>\n",
       "      <th>engineName</th>\n",
       "      <th>engineDisplacement</th>\n",
       "      <th>date</th>\n",
       "      <th>location</th>\n",
       "      <th>link</th>\n",
       "      <th>description</th>\n",
       "      <th>parse_date</th>\n",
       "    </tr>\n",
       "  </thead>\n",
       "  <tbody>\n",
       "    <tr>\n",
       "      <th>0</th>\n",
       "      <td>Fiat</td>\n",
       "      <td>124 Spider</td>\n",
       "      <td>Открытый</td>\n",
       "      <td>Синий</td>\n",
       "      <td>Бензин</td>\n",
       "      <td>NaN</td>\n",
       "      <td>8000.0</td>\n",
       "      <td>Автомат</td>\n",
       "      <td>NaN</td>\n",
       "      <td>1830000</td>\n",
       "      <td>NaN</td>\n",
       "      <td>NaN</td>\n",
       "      <td>NaN</td>\n",
       "      <td>2022-08-20 00:00:00</td>\n",
       "      <td>Владивосток</td>\n",
       "      <td>https://vladivostok.drom.ru/fiat/124_spider/47...</td>\n",
       "      <td>Только сегодня с таможни забрали Как новый! Кр...</td>\n",
       "      <td>2022-08-20 04:00:00</td>\n",
       "    </tr>\n",
       "    <tr>\n",
       "      <th>1</th>\n",
       "      <td>BMW</td>\n",
       "      <td>i3</td>\n",
       "      <td>Хэтчбек 5 дв.</td>\n",
       "      <td>Черный</td>\n",
       "      <td>Электро</td>\n",
       "      <td>NaN</td>\n",
       "      <td>12000.0</td>\n",
       "      <td>Автомат</td>\n",
       "      <td>NaN</td>\n",
       "      <td>1830000</td>\n",
       "      <td>NaN</td>\n",
       "      <td>NaN</td>\n",
       "      <td>NaN</td>\n",
       "      <td>2022-08-20 00:00:00</td>\n",
       "      <td>Владивосток</td>\n",
       "      <td>https://vladivostok.drom.ru/bmw/i3/47958301.html</td>\n",
       "      <td>Электричка +двс V-600cc ,как новая BMW i3 с ге...</td>\n",
       "      <td>2022-08-20 04:00:00</td>\n",
       "    </tr>\n",
       "    <tr>\n",
       "      <th>2</th>\n",
       "      <td>Mercedes-Benz</td>\n",
       "      <td>GLE Coupe</td>\n",
       "      <td>Джип 5 дв.</td>\n",
       "      <td>Бордовый</td>\n",
       "      <td>Бензин</td>\n",
       "      <td>2015.0</td>\n",
       "      <td>57000.0</td>\n",
       "      <td>АКПП</td>\n",
       "      <td>367.0</td>\n",
       "      <td>4600000</td>\n",
       "      <td>450 AMG 4MATIC Особая серия</td>\n",
       "      <td>M 276 DE 30 AL</td>\n",
       "      <td>3.0 LTR</td>\n",
       "      <td>2022-08-20 00:00:00</td>\n",
       "      <td>Владивосток</td>\n",
       "      <td>https://vladivostok.drom.ru/mercedes-benz/gle_...</td>\n",
       "      <td>Отличное состояние автомобиля. Комплектация «G...</td>\n",
       "      <td>2022-08-20 04:00:00</td>\n",
       "    </tr>\n",
       "    <tr>\n",
       "      <th>3</th>\n",
       "      <td>Mercedes-Benz</td>\n",
       "      <td>G-Class</td>\n",
       "      <td>Джип 5 дв.</td>\n",
       "      <td>Черный</td>\n",
       "      <td>Бензин</td>\n",
       "      <td>2002.0</td>\n",
       "      <td>200000.0</td>\n",
       "      <td>АКПП</td>\n",
       "      <td>296.0</td>\n",
       "      <td>2999999</td>\n",
       "      <td>G 500</td>\n",
       "      <td>M 113 E 50</td>\n",
       "      <td>5.0 LTR</td>\n",
       "      <td>2022-08-20 00:00:00</td>\n",
       "      <td>Владивосток</td>\n",
       "      <td>https://vladivostok.drom.ru/mercedes-benz/g-cl...</td>\n",
       "      <td>Продам правильный гелик. Лучшая машина. Полнос...</td>\n",
       "      <td>2022-08-20 04:00:00</td>\n",
       "    </tr>\n",
       "    <tr>\n",
       "      <th>4</th>\n",
       "      <td>Audi</td>\n",
       "      <td>Q7</td>\n",
       "      <td>Джип 5 дв.</td>\n",
       "      <td>Белый</td>\n",
       "      <td>Бензин</td>\n",
       "      <td>NaN</td>\n",
       "      <td>67000.0</td>\n",
       "      <td>Автомат</td>\n",
       "      <td>252.0</td>\n",
       "      <td>3300000</td>\n",
       "      <td>NaN</td>\n",
       "      <td>NaN</td>\n",
       "      <td>NaN</td>\n",
       "      <td>2022-08-20 00:00:00</td>\n",
       "      <td>Владивосток</td>\n",
       "      <td>https://vladivostok.drom.ru/audi/q7/46498184.html</td>\n",
       "      <td>Audi Q7 II S line (252л.с.) 4WD Внедорожник 5 ...</td>\n",
       "      <td>2022-08-20 04:00:00</td>\n",
       "    </tr>\n",
       "  </tbody>\n",
       "</table>\n",
       "</div>"
      ],
      "text/plain": [
       "           brand        name       bodyType     color fuelType    year  \\\n",
       "0           Fiat  124 Spider       Открытый     Синий   Бензин     NaN   \n",
       "1            BMW          i3  Хэтчбек 5 дв.    Черный  Электро     NaN   \n",
       "2  Mercedes-Benz   GLE Coupe     Джип 5 дв.  Бордовый   Бензин  2015.0   \n",
       "3  Mercedes-Benz     G-Class     Джип 5 дв.    Черный   Бензин  2002.0   \n",
       "4           Audi          Q7     Джип 5 дв.     Белый   Бензин     NaN   \n",
       "\n",
       "    mileage transmission  power    price         vehicleConfiguration  \\\n",
       "0    8000.0      Автомат    NaN  1830000                          NaN   \n",
       "1   12000.0      Автомат    NaN  1830000                          NaN   \n",
       "2   57000.0         АКПП  367.0  4600000  450 AMG 4MATIC Особая серия   \n",
       "3  200000.0         АКПП  296.0  2999999                        G 500   \n",
       "4   67000.0      Автомат  252.0  3300000                          NaN   \n",
       "\n",
       "       engineName engineDisplacement                 date     location  \\\n",
       "0             NaN                NaN  2022-08-20 00:00:00  Владивосток   \n",
       "1             NaN                NaN  2022-08-20 00:00:00  Владивосток   \n",
       "2  M 276 DE 30 AL            3.0 LTR  2022-08-20 00:00:00  Владивосток   \n",
       "3      M 113 E 50            5.0 LTR  2022-08-20 00:00:00  Владивосток   \n",
       "4             NaN                NaN  2022-08-20 00:00:00  Владивосток   \n",
       "\n",
       "                                                link  \\\n",
       "0  https://vladivostok.drom.ru/fiat/124_spider/47...   \n",
       "1   https://vladivostok.drom.ru/bmw/i3/47958301.html   \n",
       "2  https://vladivostok.drom.ru/mercedes-benz/gle_...   \n",
       "3  https://vladivostok.drom.ru/mercedes-benz/g-cl...   \n",
       "4  https://vladivostok.drom.ru/audi/q7/46498184.html   \n",
       "\n",
       "                                         description           parse_date  \n",
       "0  Только сегодня с таможни забрали Как новый! Кр...  2022-08-20 04:00:00  \n",
       "1  Электричка +двс V-600cc ,как новая BMW i3 с ге...  2022-08-20 04:00:00  \n",
       "2  Отличное состояние автомобиля. Комплектация «G...  2022-08-20 04:00:00  \n",
       "3  Продам правильный гелик. Лучшая машина. Полнос...  2022-08-20 04:00:00  \n",
       "4  Audi Q7 II S line (252л.с.) 4WD Внедорожник 5 ...  2022-08-20 04:00:00  "
      ]
     },
     "execution_count": 31,
     "metadata": {},
     "output_type": "execute_result"
    }
   ],
   "source": [
    "import pandas as pd\n",
    "df = pd.read_csv(source_file,config_data['inbound_delimiter'])\n",
    "df.head()"
   ]
  },
  {
   "cell_type": "code",
   "execution_count": 12,
   "id": "600310f3",
   "metadata": {},
   "outputs": [
    {
     "name": "stdout",
     "output_type": "stream",
     "text": [
      "column name and column length validation passed\n"
     ]
    },
    {
     "data": {
      "text/plain": [
       "1"
      ]
     },
     "execution_count": 12,
     "metadata": {},
     "output_type": "execute_result"
    }
   ],
   "source": [
    "#validating the header of the file\n",
    "util.col_header_val(df,config_data)"
   ]
  },
  {
   "cell_type": "code",
   "execution_count": 13,
   "id": "a3d17ed8",
   "metadata": {},
   "outputs": [
    {
     "name": "stdout",
     "output_type": "stream",
     "text": [
      "columns of files are: Index(['brand', 'name', 'bodytype', 'color', 'fueltype', 'year', 'mileage',\n",
      "       'transmission', 'power', 'price', 'vehicleconfiguration', 'enginename',\n",
      "       'enginedisplacement', 'date', 'location', 'link', 'description',\n",
      "       'parsedate'],\n",
      "      dtype='object')\n",
      "columns of YAML are: ['brand', 'name', 'bodyType', 'color', 'fuelType', 'year', 'mileage', 'transmission', 'power', 'price', 'vehicleConfiguration', 'engineName', 'engineDisplacement', 'date', 'location', 'link', 'description', 'parsedate']\n"
     ]
    }
   ],
   "source": [
    "print(\"columns of files are:\" ,df.columns)\n",
    "print(\"columns of YAML are:\" ,config_data['columns'])"
   ]
  },
  {
   "cell_type": "markdown",
   "id": "af4742a5",
   "metadata": {},
   "source": [
    "## File in pipe separated the text file (|) in gz format"
   ]
  },
  {
   "cell_type": "code",
   "execution_count": 14,
   "id": "8278d822",
   "metadata": {},
   "outputs": [],
   "source": [
    "# Write csv in gz format in pipe separated text file (|)\n",
    "df.to_csv(\"car_sales.gz\", sep = '|', index = False)"
   ]
  },
  {
   "cell_type": "code",
   "execution_count": 21,
   "id": "1c2f7579",
   "metadata": {},
   "outputs": [
    {
     "data": {
      "text/plain": [
       "457589697"
      ]
     },
     "execution_count": 21,
     "metadata": {},
     "output_type": "execute_result"
    }
   ],
   "source": [
    "#size of the gz format folder\n",
    "import os \n",
    "os.path.getsize('C:\\\\Users\\\\Admin\\\\Desktop\\\\Data Glacier\\\\Week6\\\\carsales.gz')"
   ]
  },
  {
   "cell_type": "code",
   "execution_count": 29,
   "id": "702edf7a",
   "metadata": {},
   "outputs": [
    {
     "data": {
      "text/plain": [
       "38"
      ]
     },
     "execution_count": 29,
     "metadata": {},
     "output_type": "execute_result"
    }
   ],
   "source": [
    "entries = os.listdir('C:\\\\Users\\\\Admin\\\\Desktop\\\\Data Glacier\\\\Week6\\\\Carsales.gz')\n",
    "len(entries)"
   ]
  }
 ],
 "metadata": {
  "kernelspec": {
   "display_name": "Python 3 (ipykernel)",
   "language": "python",
   "name": "python3"
  },
  "language_info": {
   "codemirror_mode": {
    "name": "ipython",
    "version": 3
   },
   "file_extension": ".py",
   "mimetype": "text/x-python",
   "name": "python",
   "nbconvert_exporter": "python",
   "pygments_lexer": "ipython3",
   "version": "3.10.10"
  }
 },
 "nbformat": 4,
 "nbformat_minor": 5
}
